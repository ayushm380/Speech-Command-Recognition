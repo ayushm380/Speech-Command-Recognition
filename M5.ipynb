{
  "cells": [
    {
      "cell_type": "code",
      "execution_count": null,
      "metadata": {
        "id": "_z3otu1bgU00"
      },
      "outputs": [],
      "source": [
        "%matplotlib inline"
      ]
    },
    {
      "cell_type": "markdown",
      "metadata": {
        "id": "uqkYOT7ggU01"
      },
      "source": [
        "\n",
        "# Speech Command Classification with torchaudio\n",
        "\n",
        "This tutorial will show you how to correctly format an audio dataset and\n",
        "then train/test an audio classifier network on the dataset.\n",
        "\n",
        "Colab has GPU option available. In the menu tabs, select “Runtime” then\n",
        "“Change runtime type”. In the pop-up that follows, you can choose GPU.\n",
        "After the change, your runtime should automatically restart (which means\n",
        "information from executed cells disappear).\n",
        "\n",
        "First, let’s import the common torch packages such as\n",
        "[torchaudio](https://github.com/pytorch/audio)_ that can be installed\n",
        "by following the instructions on the website.\n"
      ]
    },
    {
      "cell_type": "code",
      "execution_count": null,
      "metadata": {
        "id": "O-9_Izo2gU02"
      },
      "outputs": [],
      "source": [
        "# Uncomment the line corresponding to your \"runtime type\" to run in Google Colab\n",
        "\n",
        "# CPU:\n",
        "# !pip install pydub torch==1.7.0+cpu torchvision==0.8.1+cpu torchaudio==0.7.0 -f https://download.pytorch.org/whl/torch_stable.html\n",
        "\n",
        "# GPU:\n",
        "# !pip install pydub torch==1.7.0+cu101 torchvision==0.8.1+cu101 torchaudio==0.7.0 -f https://download.pytorch.org/whl/torch_stable.html\n",
        "\n",
        "import torch\n",
        "import torch.nn as nn\n",
        "import torch.nn.functional as F\n",
        "import torch.optim as optim\n",
        "import torchaudio\n",
        "import sys\n",
        "\n",
        "import matplotlib.pyplot as plt\n",
        "import IPython.display as ipd\n",
        "\n",
        "from tqdm import tqdm"
      ]
    },
    {
      "cell_type": "markdown",
      "metadata": {
        "id": "WptLBFoqgU03"
      },
      "source": [
        "Let’s check if a CUDA GPU is available and select our device. Running\n",
        "the network on a GPU will greatly decrease the training/testing runtime.\n",
        "\n",
        "\n"
      ]
    },
    {
      "cell_type": "code",
      "execution_count": null,
      "metadata": {
        "colab": {
          "base_uri": "https://localhost:8080/"
        },
        "id": "wgXjyV8fgU04",
        "outputId": "97ec599c-0971-4331-caf3-db7f5ea54e04"
      },
      "outputs": [
        {
          "output_type": "stream",
          "name": "stdout",
          "text": [
            "cuda\n"
          ]
        }
      ],
      "source": [
        "device = torch.device(\"cuda\" if torch.cuda.is_available() else \"cpu\")\n",
        "print(device)"
      ]
    },
    {
      "cell_type": "markdown",
      "metadata": {
        "id": "mbfwr-ZygU04"
      },
      "source": [
        "## Importing the Dataset\n",
        "\n",
        "We use torchaudio to download and represent the dataset. Here we use\n",
        "[SpeechCommands](https://arxiv.org/abs/1804.03209)_, which is a\n",
        "datasets of 35 commands spoken by different people. The dataset\n",
        "``SPEECHCOMMANDS`` is a ``torch.utils.data.Dataset`` version of the\n",
        "dataset. In this dataset, all audio files are about 1 second long (and\n",
        "so about 16000 time frames long).\n",
        "\n",
        "The actual loading and formatting steps happen when a data point is\n",
        "being accessed, and torchaudio takes care of converting the audio files\n",
        "to tensors. If one wants to load an audio file directly instead,\n",
        "``torchaudio.load()`` can be used. It returns a tuple containing the\n",
        "newly created tensor along with the sampling frequency of the audio file\n",
        "(16kHz for SpeechCommands).\n",
        "\n",
        "Going back to the dataset, here we create a subclass that splits it into\n",
        "standard training, validation, testing subsets.\n",
        "\n",
        "\n"
      ]
    },
    {
      "cell_type": "code",
      "execution_count": null,
      "metadata": {
        "colab": {
          "base_uri": "https://localhost:8080/",
          "height": 84,
          "referenced_widgets": [
            "d803d1ba7ff440739f91bf46a64f135d",
            "637c76c141714eb89edf50f1f9e4416c",
            "a88254c4ef9643bca9220ee4561ea739",
            "6dd0d69cc4164733a6fe373fc5390cb7",
            "4005f19971614d4884a034cedd5e4fff",
            "ba070aab114c4f0ab94152bc0444b133",
            "e954380e70a04a50b46922c08dcbe7da",
            "da276eebaee947c89ccd4385c810d365",
            "41e62c87f3554177970b736c27307602",
            "a75912f9192242209ab91083b3511abf",
            "91685800b8984449b852ecbfbf2bc267"
          ]
        },
        "id": "t-tka2xBgU04",
        "outputId": "88b1ea40-8bfb-4bde-ee29-20fd05fe9606"
      },
      "outputs": [
        {
          "output_type": "display_data",
          "data": {
            "text/plain": [
              "  0%|          | 0.00/2.26G [00:00<?, ?B/s]"
            ],
            "application/vnd.jupyter.widget-view+json": {
              "version_major": 2,
              "version_minor": 0,
              "model_id": "d803d1ba7ff440739f91bf46a64f135d"
            }
          },
          "metadata": {}
        },
        {
          "output_type": "stream",
          "name": "stdout",
          "text": [
            "12000\n",
            "4000\n"
          ]
        }
      ],
      "source": [
        "from torchaudio.datasets import SPEECHCOMMANDS\n",
        "import os\n",
        "\n",
        "\n",
        "class SubsetSC(SPEECHCOMMANDS):\n",
        "    def __init__(self, subset: str = None):\n",
        "        super().__init__(\"./\", download=True)\n",
        "\n",
        "        def load_list(filename):\n",
        "            filepath = os.path.join(self._path, filename)\n",
        "            with open(filepath) as fileobj:\n",
        "                return [os.path.normpath(os.path.join(self._path, line.strip())) for line in fileobj]\n",
        "\n",
        "        if subset == \"validation\":\n",
        "            self._walker = load_list(\"validation_list.txt\")\n",
        "        elif subset == \"testing\":\n",
        "            self._walker = load_list(\"testing_list.txt\")\n",
        "        elif subset == \"training\":\n",
        "            excludes = load_list(\"validation_list.txt\") + load_list(\"testing_list.txt\")\n",
        "            excludes = set(excludes)\n",
        "            self._walker = [w for w in self._walker if w not in excludes]\n",
        "\n",
        "\n",
        "# Create training and testing split of the data. We do not use validation in this tutorial.\n",
        "\n",
        "train_list = open(\"train_list.txt\").readlines()\n",
        "test_list = open(\"test_list.txt\").readlines()\n",
        "\n",
        "train_set1 = SubsetSC(\"training\")\n",
        "test_set1 = SubsetSC(\"testing\")\n",
        "\n",
        "train_set = list(train_set1[i-1] for i in list(map(int, train_list)))\n",
        "test_set = list(test_set1[i-1] for i in list(map(int, test_list)))\n",
        "print(len(train_set))\n",
        "print(len(test_set))\n",
        "waveform, sample_rate, label, speaker_id, utterance_number = train_set[0]"
      ]
    },
    {
      "cell_type": "markdown",
      "metadata": {
        "id": "Iy1x24-EgU05"
      },
      "source": [
        "A data point in the SPEECHCOMMANDS dataset is a tuple made of a waveform\n",
        "(the audio signal), the sample rate, the utterance (label), the ID of\n",
        "the speaker, the number of the utterance.\n",
        "\n",
        "\n"
      ]
    },
    {
      "cell_type": "code",
      "execution_count": null,
      "metadata": {
        "colab": {
          "base_uri": "https://localhost:8080/",
          "height": 300
        },
        "id": "HFp8V27xgU05",
        "outputId": "a81f3111-9b3b-463d-8513-389b26b68812"
      },
      "outputs": [
        {
          "output_type": "stream",
          "name": "stdout",
          "text": [
            "Shape of waveform: torch.Size([1, 16000])\n",
            "Sample rate of waveform: 16000\n"
          ]
        },
        {
          "output_type": "display_data",
          "data": {
            "text/plain": [
              "<Figure size 432x288 with 1 Axes>"
            ],
            "image/png": "[encoded data removed]"
          },
          "metadata": {
            "needs_background": "light"
          }
        }
      ],
      "source": [
        "print(\"Shape of waveform: {}\".format(waveform.size()))\n",
        "print(\"Sample rate of waveform: {}\".format(sample_rate))\n",
        "\n",
        "plt.plot(waveform.t().numpy());"
      ]
    },
    {
      "cell_type": "markdown",
      "metadata": {
        "id": "3bJWoeB_gU05"
      },
      "source": [
        "Let’s find the list of labels available in the dataset.\n",
        "\n",
        "\n"
      ]
    },
    {
      "cell_type": "code",
      "execution_count": null,
      "metadata": {
        "colab": {
          "base_uri": "https://localhost:8080/"
        },
        "id": "R8GJjdkqgU06",
        "outputId": "65f32e36-977e-4627-df10-041b319ae1af"
      },
      "outputs": [
        {
          "output_type": "execute_result",
          "data": {
            "text/plain": [
              "['backward',\n",
              " 'bed',\n",
              " 'bird',\n",
              " 'cat',\n",
              " 'dog',\n",
              " 'down',\n",
              " 'eight',\n",
              " 'five',\n",
              " 'follow',\n",
              " 'forward',\n",
              " 'four',\n",
              " 'go',\n",
              " 'happy',\n",
              " 'house',\n",
              " 'learn',\n",
              " 'left',\n",
              " 'marvin',\n",
              " 'nine',\n",
              " 'no',\n",
              " 'off',\n",
              " 'on',\n",
              " 'one',\n",
              " 'right',\n",
              " 'seven',\n",
              " 'sheila',\n",
              " 'six',\n",
              " 'stop',\n",
              " 'three',\n",
              " 'tree',\n",
              " 'two',\n",
              " 'up',\n",
              " 'visual',\n",
              " 'wow',\n",
              " 'yes',\n",
              " 'zero']"
            ]
          },
          "metadata": {},
          "execution_count": 10
        }
      ],
      "source": [
        "labels = sorted(list(set(datapoint[2] for datapoint in train_set)))\n",
        "labels"
      ]
    },
    {
      "cell_type": "markdown",
      "metadata": {
        "id": "N4fBXTT7gU06"
      },
      "source": [
        "The 35 audio labels are commands that are said by users. The first few\n",
        "files are people saying “marvin”.\n",
        "\n",
        "\n"
      ]
    },
    {
      "cell_type": "code",
      "execution_count": null,
      "metadata": {
        "colab": {
          "base_uri": "https://localhost:8080/"
        },
        "id": "fRi40oohgU06",
        "outputId": "b17ad5ee-5e29-44c7-f614-f87d4fe2bcf1"
      },
      "outputs": [
        {
          "output_type": "execute_result",
          "data": {
            "text/plain": [
              "16000"
            ]
          },
          "metadata": {},
          "execution_count": 11
        }
      ],
      "source": [
        "waveform_first, *_ = train_set[0]\n",
        "ipd.Audio(waveform_first.numpy(), rate=sample_rate)\n",
        "\n",
        "waveform_second, label,*_ = train_set[1]\n",
        "ipd.Audio(waveform_second.numpy(), rate=sample_rate)\n",
        "label"
      ]
    },
    {
      "cell_type": "markdown",
      "metadata": {
        "id": "1OWyxEwwgU06"
      },
      "source": [
        "The last file is someone saying “visual”.\n",
        "\n",
        "\n"
      ]
    },
    {
      "cell_type": "code",
      "execution_count": null,
      "metadata": {
        "colab": {
          "base_uri": "https://localhost:8080/",
          "height": 36
        },
        "id": "9_uVH4tPgU07",
        "outputId": "8a58a7d0-4344-4084-d95f-37b8a12d839e"
      },
      "outputs": [
        {
          "output_type": "execute_result",
          "data": {
            "text/plain": [
              "'zero'"
            ],
            "application/vnd.google.colaboratory.intrinsic+json": {
              "type": "string"
            }
          },
          "metadata": {},
          "execution_count": 12
        }
      ],
      "source": [
        "waveform_last,sr,label ,*_ = train_set[-1]\n",
        "ipd.Audio(waveform_last.numpy(), rate=sample_rate)\n",
        "label"
      ]
    },
    {
      "cell_type": "markdown",
      "metadata": {
        "id": "BlMFpQKggU07"
      },
      "source": [
        "## Formatting the Data\n",
        "\n",
        "This is a good place to apply transformations to the data. For the\n",
        "waveform, we downsample the audio for faster processing without losing\n",
        "too much of the classification power.\n",
        "\n",
        "We don’t need to apply other transformations here. It is common for some\n",
        "datasets though to have to reduce the number of channels (say from\n",
        "stereo to mono) by either taking the mean along the channel dimension,\n",
        "or simply keeping only one of the channels. Since SpeechCommands uses a\n",
        "single channel for audio, this is not needed here.\n",
        "\n",
        "\n"
      ]
    },
    {
      "cell_type": "code",
      "execution_count": null,
      "metadata": {
        "colab": {
          "base_uri": "https://localhost:8080/",
          "height": 76
        },
        "id": "lSHU47mugU07",
        "outputId": "0356e09a-cd23-4290-ac1a-c61413e5a900"
      },
      "outputs": [
        {
          "output_type": "execute_result",
          "data": {
            "text/plain": [
              "<IPython.lib.display.Audio object>"
            ],
            "text/html": [
              "\n",
              "                <audio  controls=\"controls\" >\n",
              "                    <source src=\"data:audio/wav;base64,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\" type=\"audio/wav\" />\n",
              "                    Your browser does not support the audio element.\n",
              "                </audio>\n",
              "              "
            ]
          },
          "metadata": {},
          "execution_count": 13
        }
      ],
      "source": [
        "new_sample_rate = 8000\n",
        "transform = torchaudio.transforms.Resample(orig_freq=sample_rate, new_freq=new_sample_rate)\n",
        "transformed = transform(waveform)\n",
        "\n",
        "ipd.Audio(transformed.numpy(), rate=new_sample_rate)"
      ]
    },
    {
      "cell_type": "markdown",
      "metadata": {
        "id": "HTR6l72QgU07"
      },
      "source": [
        "We are encoding each word using its index in the list of labels.\n",
        "\n",
        "\n"
      ]
    },
    {
      "cell_type": "code",
      "execution_count": null,
      "metadata": {
        "colab": {
          "base_uri": "https://localhost:8080/"
        },
        "id": "VhlweJiJgU07",
        "outputId": "74a7a044-0033-4ca2-d334-dbdcbb524c19"
      },
      "outputs": [
        {
          "output_type": "stream",
          "name": "stdout",
          "text": [
            "yes --> tensor(33) --> yes\n"
          ]
        }
      ],
      "source": [
        "def label_to_index(word):\n",
        "    # Return the position of the word in labels\n",
        "    return torch.tensor(labels.index(word))\n",
        "\n",
        "\n",
        "def index_to_label(index):\n",
        "    # Return the word corresponding to the index in labels\n",
        "    # This is the inverse of label_to_index\n",
        "    return labels[index]\n",
        "\n",
        "\n",
        "word_start = \"yes\"\n",
        "index = label_to_index(word_start)\n",
        "word_recovered = index_to_label(index)\n",
        "\n",
        "print(word_start, \"-->\", index, \"-->\", word_recovered)"
      ]
    },
    {
      "cell_type": "markdown",
      "metadata": {
        "id": "CCpzjq67gU08"
      },
      "source": [
        "To turn a list of data point made of audio recordings and utterances\n",
        "into two batched tensors for the model, we implement a collate function\n",
        "which is used by the PyTorch DataLoader that allows us to iterate over a\n",
        "dataset by batches. Please see [the\n",
        "documentation](https://pytorch.org/docs/stable/data.html#working-with-collate-fn)_\n",
        "for more information about working with a collate function.\n",
        "\n",
        "In the collate function, we also apply the resampling, and the text\n",
        "encoding.\n",
        "\n",
        "\n"
      ]
    },
    {
      "cell_type": "code",
      "execution_count": null,
      "metadata": {
        "id": "eu8c43EQgU08"
      },
      "outputs": [],
      "source": [
        "def pad_sequence(batch):\n",
        "    # Make all tensor in a batch the same length by padding with zeros\n",
        "    batch = [item.t() for item in batch]\n",
        "    batch = torch.nn.utils.rnn.pad_sequence(batch, batch_first=True, padding_value=0.)\n",
        "    return batch.permute(0, 2, 1)\n",
        "\n",
        "\n",
        "def collate_fn(batch):\n",
        "\n",
        "    # A data tuple has the form:\n",
        "    # waveform, sample_rate, label, speaker_id, utterance_number\n",
        "\n",
        "    tensors, targets = [], []\n",
        "\n",
        "    # Gather in lists, and encode labels as indices\n",
        "    for waveform, _, label, *_ in batch:\n",
        "        tensors += [waveform]\n",
        "        targets += [label_to_index(label)]\n",
        "\n",
        "    # Group the list of tensors into a batched tensor\n",
        "    tensors = pad_sequence(tensors)\n",
        "    targets = torch.stack(targets)\n",
        "\n",
        "    return tensors, targets\n",
        "\n",
        "\n",
        "batch_size = 256\n",
        "\n",
        "if device == \"cuda\":\n",
        "    num_workers = 1\n",
        "    pin_memory = True\n",
        "else:\n",
        "    num_workers = 0\n",
        "    pin_memory = False\n",
        "\n",
        "train_loader = torch.utils.data.DataLoader(\n",
        "    train_set,\n",
        "    batch_size=batch_size,\n",
        "    shuffle=True,\n",
        "    collate_fn=collate_fn,\n",
        "    num_workers=num_workers,\n",
        "    pin_memory=pin_memory,\n",
        ")\n",
        "test_loader = torch.utils.data.DataLoader(\n",
        "    test_set,\n",
        "    batch_size=batch_size,\n",
        "    shuffle=False,\n",
        "    drop_last=False,\n",
        "    collate_fn=collate_fn,\n",
        "    num_workers=num_workers,\n",
        "    pin_memory=pin_memory,\n",
        ")"
      ]
    },
    {
      "cell_type": "markdown",
      "metadata": {
        "id": "glbWGWVxgU08"
      },
      "source": [
        "## Define the Network\n",
        "\n",
        "For this tutorial we will use a convolutional neural network to process\n",
        "the raw audio data. Usually more advanced transforms are applied to the\n",
        "audio data, however CNNs can be used to accurately process the raw data.\n",
        "The specific architecture is modeled after the M5 network architecture\n",
        "described in [this paper](https://arxiv.org/pdf/1610.00087.pdf)_. An\n",
        "important aspect of models processing raw audio data is the receptive\n",
        "field of their first layer’s filters. Our model’s first filter is length\n",
        "80 so when processing audio sampled at 8kHz the receptive field is\n",
        "around 10ms (and at 4kHz, around 20 ms). This size is similar to speech\n",
        "processing applications that often use receptive fields ranging from\n",
        "20ms to 40ms.\n",
        "\n",
        "\n"
      ]
    },
    {
      "cell_type": "code",
      "execution_count": null,
      "metadata": {
        "colab": {
          "base_uri": "https://localhost:8080/"
        },
        "id": "rouNIgGngU08",
        "outputId": "8b68176d-93c8-4031-e8ea-892d16173166"
      },
      "outputs": [
        {
          "output_type": "stream",
          "name": "stdout",
          "text": [
            "M5(\n",
            "  (conv1): Conv1d(1, 32, kernel_size=(80,), stride=(16,))\n",
            "  (bn1): BatchNorm1d(32, eps=1e-05, momentum=0.1, affine=True, track_running_stats=True)\n",
            "  (pool1): MaxPool1d(kernel_size=4, stride=4, padding=0, dilation=1, ceil_mode=False)\n",
            "  (conv2): Conv1d(32, 32, kernel_size=(3,), stride=(1,))\n",
            "  (bn2): BatchNorm1d(32, eps=1e-05, momentum=0.1, affine=True, track_running_stats=True)\n",
            "  (pool2): MaxPool1d(kernel_size=4, stride=4, padding=0, dilation=1, ceil_mode=False)\n",
            "  (conv3): Conv1d(32, 64, kernel_size=(3,), stride=(1,))\n",
            "  (bn3): BatchNorm1d(64, eps=1e-05, momentum=0.1, affine=True, track_running_stats=True)\n",
            "  (pool3): MaxPool1d(kernel_size=4, stride=4, padding=0, dilation=1, ceil_mode=False)\n",
            "  (conv4): Conv1d(64, 64, kernel_size=(3,), stride=(1,))\n",
            "  (bn4): BatchNorm1d(64, eps=1e-05, momentum=0.1, affine=True, track_running_stats=True)\n",
            "  (pool4): MaxPool1d(kernel_size=4, stride=4, padding=0, dilation=1, ceil_mode=False)\n",
            "  (fc1): Linear(in_features=64, out_features=35, bias=True)\n",
            ")\n",
            "Number of parameters: 26915\n"
          ]
        }
      ],
      "source": [
        "class M5(nn.Module):\n",
        "    def __init__(self, n_input=1, n_output=35, stride=16, n_channel=32):\n",
        "        super().__init__()\n",
        "        self.conv1 = nn.Conv1d(n_input, n_channel, kernel_size=80, stride=stride)\n",
        "        self.bn1 = nn.BatchNorm1d(n_channel)\n",
        "        self.pool1 = nn.MaxPool1d(4)\n",
        "        self.conv2 = nn.Conv1d(n_channel, n_channel, kernel_size=3)\n",
        "        self.bn2 = nn.BatchNorm1d(n_channel)\n",
        "        self.pool2 = nn.MaxPool1d(4)\n",
        "        self.conv3 = nn.Conv1d(n_channel, 2 * n_channel, kernel_size=3)\n",
        "        self.bn3 = nn.BatchNorm1d(2 * n_channel)\n",
        "        self.pool3 = nn.MaxPool1d(4)\n",
        "        self.conv4 = nn.Conv1d(2 * n_channel, 2 * n_channel, kernel_size=3)\n",
        "        self.bn4 = nn.BatchNorm1d(2 * n_channel)\n",
        "        self.pool4 = nn.MaxPool1d(4)\n",
        "        self.fc1 = nn.Linear(2 * n_channel, n_output)\n",
        "\n",
        "    def forward(self, x):\n",
        "        x = self.conv1(x)\n",
        "        x = F.relu(self.bn1(x))\n",
        "        x = self.pool1(x)\n",
        "        x = self.conv2(x)\n",
        "        x = F.relu(self.bn2(x))\n",
        "        x = self.pool2(x)\n",
        "        x = self.conv3(x)\n",
        "        x = F.relu(self.bn3(x))\n",
        "        x = self.pool3(x)\n",
        "        x = self.conv4(x)\n",
        "        x = F.relu(self.bn4(x))\n",
        "        x = self.pool4(x)\n",
        "        x = F.avg_pool1d(x, x.shape[-1])\n",
        "        x = x.permute(0, 2, 1)\n",
        "        x = self.fc1(x)\n",
        "        return F.log_softmax(x, dim=2)\n",
        "\n",
        "\n",
        "model = M5(n_input=transformed.shape[0], n_output=len(labels))\n",
        "model.to(device)\n",
        "print(model)\n",
        "\n",
        "\n",
        "def count_parameters(model):\n",
        "    return sum(p.numel() for p in model.parameters() if p.requires_grad)\n",
        "\n",
        "\n",
        "n = count_parameters(model)\n",
        "print(\"Number of parameters: %s\" % n)"
      ]
    },
    {
      "cell_type": "markdown",
      "metadata": {
        "id": "ER7MzG-kgU09"
      },
      "source": [
        "We will use the same optimization technique used in the paper, an Adam\n",
        "optimizer with weight decay set to 0.0001. At first, we will train with\n",
        "a learning rate of 0.01, but we will use a ``scheduler`` to decrease it\n",
        "to 0.001 during training after 20 epochs.\n",
        "\n",
        "\n"
      ]
    },
    {
      "cell_type": "code",
      "execution_count": null,
      "metadata": {
        "id": "TGIbETX8gU09"
      },
      "outputs": [],
      "source": [
        "optimizer = optim.Adam(model.parameters(), lr=0.01, weight_decay=0.0001)\n",
        "scheduler = optim.lr_scheduler.StepLR(optimizer, step_size=20, gamma=0.1)  # reduce the learning after 20 epochs by a factor of 10"
      ]
    },
    {
      "cell_type": "markdown",
      "metadata": {
        "id": "hle0p0PjgU09"
      },
      "source": [
        "## Training and Testing the Network\n",
        "\n",
        "Now let’s define a training function that will feed our training data\n",
        "into the model and perform the backward pass and optimization steps. For\n",
        "training, the loss we will use is the negative log-likelihood. The\n",
        "network will then be tested after each epoch to see how the accuracy\n",
        "varies during the training.\n",
        "\n",
        "\n"
      ]
    },
    {
      "cell_type": "code",
      "execution_count": null,
      "metadata": {
        "id": "J9sfPvrzgU09"
      },
      "outputs": [],
      "source": [
        "def train(model, epoch, log_interval):\n",
        "    model.train()\n",
        "    for batch_idx, (data, target) in enumerate(train_loader):\n",
        "\n",
        "        data = data.to(device)\n",
        "        target = target.to(device)\n",
        "\n",
        "        # apply transform and model on whole batch directly on device\n",
        "        data = transform(data)\n",
        "        output = model(data)\n",
        "\n",
        "        # negative log-likelihood for a tensor of size (batch x 1 x n_output)\n",
        "        loss = F.nll_loss(output.squeeze(), target)\n",
        "\n",
        "        optimizer.zero_grad()\n",
        "        loss.backward()\n",
        "        optimizer.step()\n",
        "\n",
        "        # print training stats\n",
        "        if batch_idx % log_interval == 0:\n",
        "            print(f\"Train Epoch: {epoch} [{batch_idx * len(data)}/{len(train_loader.dataset)} ({100. * batch_idx / len(train_loader):.0f}%)]\\tLoss: {loss.item():.6f}\")\n",
        "\n",
        "        # update progress bar\n",
        "        pbar.update(pbar_update)\n",
        "        # record loss\n",
        "        losses.append(loss.item())"
      ]
    },
    {
      "cell_type": "markdown",
      "metadata": {
        "id": "dm7RWbDYgU0-"
      },
      "source": [
        "Now that we have a training function, we need to make one for testing\n",
        "the networks accuracy. We will set the model to ``eval()`` mode and then\n",
        "run inference on the test dataset. Calling ``eval()`` sets the training\n",
        "variable in all modules in the network to false. Certain layers like\n",
        "batch normalization and dropout layers behave differently during\n",
        "training so this step is crucial for getting correct results.\n",
        "\n",
        "\n"
      ]
    },
    {
      "cell_type": "code",
      "execution_count": null,
      "metadata": {
        "id": "dF62r8jIgU0-"
      },
      "outputs": [],
      "source": [
        "def number_of_correct(pred, target):\n",
        "    # count number of correct predictions\n",
        "    return pred.squeeze().eq(target).sum().item()\n",
        "\n",
        "\n",
        "def get_likely_index(tensor):\n",
        "    # find most likely label index for each element in the batch\n",
        "    return tensor.argmax(dim=-1)\n",
        "\n",
        "\n",
        "def test(model, epoch):\n",
        "    model.eval()\n",
        "    correct = 0\n",
        "    for data, target in test_loader:\n",
        "\n",
        "        data = data.to(device)\n",
        "        target = target.to(device)\n",
        "\n",
        "        # apply transform and model on whole batch directly on device\n",
        "        data = transform(data)\n",
        "        output = model(data)\n",
        "\n",
        "        pred = get_likely_index(output)\n",
        "        correct += number_of_correct(pred, target)\n",
        "\n",
        "        # update progress bar\n",
        "        pbar.update(pbar_update)\n",
        "\n",
        "    print(f\"\\nTest Epoch: {epoch}\\tAccuracy: {correct}/{len(test_loader.dataset)} ({100. * correct / len(test_loader.dataset):.0f}%)\\n\")"
      ]
    },
    {
      "cell_type": "markdown",
      "metadata": {
        "id": "x61WisUZgU0-"
      },
      "source": [
        "Finally, we can train and test the network. We will train the network\n",
        "for ten epochs then reduce the learn rate and train for ten more epochs.\n",
        "The network will be tested after each epoch to see how the accuracy\n",
        "varies during the training.\n",
        "\n",
        "\n"
      ]
    },
    {
      "cell_type": "code",
      "execution_count": null,
      "metadata": {
        "colab": {
          "base_uri": "https://localhost:8080/"
        },
        "id": "8pi2kdT8gU0_",
        "outputId": "031e56bb-8a4c-43d0-a8fb-e5724c50be18"
      },
      "outputs": [
        {
          "output_type": "stream",
          "name": "stderr",
          "text": [
            "  0%|          | 0.07936507936507936/20 [00:07<24:36, 74.10s/it]    "
          ]
        },
        {
          "output_type": "stream",
          "name": "stdout",
          "text": [
            "Train Epoch: 1 [0/12000 (0%)]\tLoss: 3.852711\n"
          ]
        },
        {
          "output_type": "stream",
          "name": "stderr",
          "text": [
            "  2%|▏         | 0.42857142857142855/20 [00:08<02:09,  6.61s/it]"
          ]
        },
        {
          "output_type": "stream",
          "name": "stdout",
          "text": [
            "Train Epoch: 1 [5120/12000 (43%)]\tLoss: 3.218915\n"
          ]
        },
        {
          "output_type": "stream",
          "name": "stderr",
          "text": [
            "  4%|▍         | 0.7777777777777768/20 [00:08<00:44,  2.34s/it]"
          ]
        },
        {
          "output_type": "stream",
          "name": "stdout",
          "text": [
            "Train Epoch: 1 [10240/12000 (85%)]\tLoss: 2.773506\n"
          ]
        },
        {
          "output_type": "stream",
          "name": "stderr",
          "text": [
            "  6%|▌         | 1.1269841269841248/20 [00:09<00:28,  1.49s/it]"
          ]
        },
        {
          "output_type": "stream",
          "name": "stdout",
          "text": [
            "\n",
            "Test Epoch: 1\tAccuracy: 761/4000 (19%)\n",
            "\n",
            "Train Epoch: 2 [0/12000 (0%)]\tLoss: 2.642538\n"
          ]
        },
        {
          "output_type": "stream",
          "name": "stderr",
          "text": [
            "  7%|▋         | 1.4126984126984095/20 [00:09<00:26,  1.45s/it]"
          ]
        },
        {
          "output_type": "stream",
          "name": "stdout",
          "text": [
            "Train Epoch: 2 [5120/12000 (43%)]\tLoss: 2.336667\n"
          ]
        },
        {
          "output_type": "stream",
          "name": "stderr",
          "text": [
            "  9%|▊         | 1.7301587301587258/20 [00:09<00:25,  1.40s/it]"
          ]
        },
        {
          "output_type": "stream",
          "name": "stdout",
          "text": [
            "Train Epoch: 2 [10240/12000 (85%)]\tLoss: 2.238344\n"
          ]
        },
        {
          "output_type": "stream",
          "name": "stderr",
          "text": [
            " 10%|█         | 2.0317460317460263/20 [00:10<00:21,  1.19s/it]"
          ]
        },
        {
          "output_type": "stream",
          "name": "stdout",
          "text": [
            "\n",
            "Test Epoch: 2\tAccuracy: 1406/4000 (35%)\n",
            "\n",
            "Train Epoch: 3 [0/12000 (0%)]\tLoss: 1.958552\n"
          ]
        },
        {
          "output_type": "stream",
          "name": "stderr",
          "text": [
            " 12%|█▏        | 2.4444444444444375/20 [00:10<00:24,  1.39s/it]"
          ]
        },
        {
          "output_type": "stream",
          "name": "stdout",
          "text": [
            "Train Epoch: 3 [5120/12000 (43%)]\tLoss: 1.997065\n"
          ]
        },
        {
          "output_type": "stream",
          "name": "stderr",
          "text": [
            " 14%|█▍        | 2.761904761904754/20 [00:11<00:23,  1.36s/it]"
          ]
        },
        {
          "output_type": "stream",
          "name": "stdout",
          "text": [
            "Train Epoch: 3 [10240/12000 (85%)]\tLoss: 1.694833\n"
          ]
        },
        {
          "output_type": "stream",
          "name": "stderr",
          "text": [
            " 16%|█▌        | 3.111111111111102/20 [00:11<00:18,  1.12s/it]"
          ]
        },
        {
          "output_type": "stream",
          "name": "stdout",
          "text": [
            "\n",
            "Test Epoch: 3\tAccuracy: 1928/4000 (48%)\n",
            "\n",
            "Train Epoch: 4 [0/12000 (0%)]\tLoss: 1.537832\n"
          ]
        },
        {
          "output_type": "stream",
          "name": "stderr",
          "text": [
            " 17%|█▋        | 3.4920634920634814/20 [00:12<00:19,  1.18s/it]"
          ]
        },
        {
          "output_type": "stream",
          "name": "stdout",
          "text": [
            "Train Epoch: 4 [5120/12000 (43%)]\tLoss: 1.631808\n"
          ]
        },
        {
          "output_type": "stream",
          "name": "stderr",
          "text": [
            " 19%|█▉        | 3.777777777777766/20 [00:12<00:18,  1.15s/it] "
          ]
        },
        {
          "output_type": "stream",
          "name": "stdout",
          "text": [
            "Train Epoch: 4 [10240/12000 (85%)]\tLoss: 1.436554\n"
          ]
        },
        {
          "output_type": "stream",
          "name": "stderr",
          "text": [
            " 21%|██        | 4.14285714285713/20 [00:12<00:16,  1.05s/it] "
          ]
        },
        {
          "output_type": "stream",
          "name": "stdout",
          "text": [
            "\n",
            "Test Epoch: 4\tAccuracy: 2187/4000 (55%)\n",
            "\n",
            "Train Epoch: 5 [0/12000 (0%)]\tLoss: 1.373495\n"
          ]
        },
        {
          "output_type": "stream",
          "name": "stderr",
          "text": [
            " 22%|██▏       | 4.44444444444443/20 [00:13<00:17,  1.11s/it]  "
          ]
        },
        {
          "output_type": "stream",
          "name": "stdout",
          "text": [
            "Train Epoch: 5 [5120/12000 (43%)]\tLoss: 1.448369\n"
          ]
        },
        {
          "output_type": "stream",
          "name": "stderr",
          "text": [
            " 24%|██▍       | 4.841269841269826/20 [00:13<00:16,  1.08s/it]"
          ]
        },
        {
          "output_type": "stream",
          "name": "stdout",
          "text": [
            "Train Epoch: 5 [10240/12000 (85%)]\tLoss: 1.357681\n"
          ]
        },
        {
          "output_type": "stream",
          "name": "stderr",
          "text": [
            " 25%|██▌       | 5.079365079365063/20 [00:13<00:15,  1.01s/it]"
          ]
        },
        {
          "output_type": "stream",
          "name": "stdout",
          "text": [
            "\n",
            "Test Epoch: 5\tAccuracy: 2164/4000 (54%)\n",
            "\n",
            "Train Epoch: 6 [0/12000 (0%)]\tLoss: 1.254721\n"
          ]
        },
        {
          "output_type": "stream",
          "name": "stderr",
          "text": [
            " 27%|██▋       | 5.492063492063474/20 [00:14<00:15,  1.10s/it]"
          ]
        },
        {
          "output_type": "stream",
          "name": "stdout",
          "text": [
            "Train Epoch: 6 [5120/12000 (43%)]\tLoss: 1.209394\n"
          ]
        },
        {
          "output_type": "stream",
          "name": "stderr",
          "text": [
            " 29%|██▉       | 5.777777777777759/20 [00:14<00:15,  1.11s/it]"
          ]
        },
        {
          "output_type": "stream",
          "name": "stdout",
          "text": [
            "Train Epoch: 6 [10240/12000 (85%)]\tLoss: 0.934326\n"
          ]
        },
        {
          "output_type": "stream",
          "name": "stderr",
          "text": [
            " 31%|███       | 6.142857142857123/20 [00:14<00:14,  1.03s/it]"
          ]
        },
        {
          "output_type": "stream",
          "name": "stdout",
          "text": [
            "\n",
            "Test Epoch: 6\tAccuracy: 2493/4000 (62%)\n",
            "\n",
            "Train Epoch: 7 [0/12000 (0%)]\tLoss: 0.964602\n"
          ]
        },
        {
          "output_type": "stream",
          "name": "stderr",
          "text": [
            " 32%|███▏      | 6.460317460317439/20 [00:15<00:14,  1.09s/it]"
          ]
        },
        {
          "output_type": "stream",
          "name": "stdout",
          "text": [
            "Train Epoch: 7 [5120/12000 (43%)]\tLoss: 1.130668\n"
          ]
        },
        {
          "output_type": "stream",
          "name": "stderr",
          "text": [
            " 34%|███▎      | 6.746031746031724/20 [00:15<00:15,  1.14s/it]"
          ]
        },
        {
          "output_type": "stream",
          "name": "stdout",
          "text": [
            "Train Epoch: 7 [10240/12000 (85%)]\tLoss: 1.020682\n"
          ]
        },
        {
          "output_type": "stream",
          "name": "stderr",
          "text": [
            " 36%|███▌      | 7.126984126984103/20 [00:16<00:13,  1.03s/it]"
          ]
        },
        {
          "output_type": "stream",
          "name": "stdout",
          "text": [
            "\n",
            "Test Epoch: 7\tAccuracy: 2512/4000 (63%)\n",
            "\n",
            "Train Epoch: 8 [0/12000 (0%)]\tLoss: 0.894770\n"
          ]
        },
        {
          "output_type": "stream",
          "name": "stderr",
          "text": [
            " 37%|███▋      | 7.428571428571404/20 [00:16<00:13,  1.11s/it]"
          ]
        },
        {
          "output_type": "stream",
          "name": "stdout",
          "text": [
            "Train Epoch: 8 [5120/12000 (43%)]\tLoss: 0.961764\n"
          ]
        },
        {
          "output_type": "stream",
          "name": "stderr",
          "text": [
            " 39%|███▉      | 7.825396825396799/20 [00:16<00:13,  1.07s/it]"
          ]
        },
        {
          "output_type": "stream",
          "name": "stdout",
          "text": [
            "Train Epoch: 8 [10240/12000 (85%)]\tLoss: 0.923196\n"
          ]
        },
        {
          "output_type": "stream",
          "name": "stderr",
          "text": [
            " 40%|████      | 8.063492063492037/20 [00:17<00:12,  1.01s/it]"
          ]
        },
        {
          "output_type": "stream",
          "name": "stdout",
          "text": [
            "\n",
            "Test Epoch: 8\tAccuracy: 2537/4000 (63%)\n",
            "\n",
            "Train Epoch: 9 [0/12000 (0%)]\tLoss: 0.748628\n"
          ]
        },
        {
          "output_type": "stream",
          "name": "stderr",
          "text": [
            " 42%|████▏     | 8.476190476190448/20 [00:17<00:12,  1.10s/it]"
          ]
        },
        {
          "output_type": "stream",
          "name": "stdout",
          "text": [
            "Train Epoch: 9 [5120/12000 (43%)]\tLoss: 0.951918\n"
          ]
        },
        {
          "output_type": "stream",
          "name": "stderr",
          "text": [
            " 44%|████▍     | 8.761904761904733/20 [00:17<00:12,  1.14s/it]"
          ]
        },
        {
          "output_type": "stream",
          "name": "stdout",
          "text": [
            "Train Epoch: 9 [10240/12000 (85%)]\tLoss: 1.020185\n"
          ]
        },
        {
          "output_type": "stream",
          "name": "stderr",
          "text": [
            " 46%|████▌     | 9.126984126984096/20 [00:18<00:11,  1.04s/it]"
          ]
        },
        {
          "output_type": "stream",
          "name": "stdout",
          "text": [
            "\n",
            "Test Epoch: 9\tAccuracy: 2597/4000 (65%)\n",
            "\n",
            "Train Epoch: 10 [0/12000 (0%)]\tLoss: 0.743287\n"
          ]
        },
        {
          "output_type": "stream",
          "name": "stderr",
          "text": [
            " 47%|████▋     | 9.428571428571397/20 [00:18<00:11,  1.09s/it]"
          ]
        },
        {
          "output_type": "stream",
          "name": "stdout",
          "text": [
            "Train Epoch: 10 [5120/12000 (43%)]\tLoss: 0.821448\n"
          ]
        },
        {
          "output_type": "stream",
          "name": "stderr",
          "text": [
            " 49%|████▉     | 9.825396825396792/20 [00:18<00:11,  1.08s/it]"
          ]
        },
        {
          "output_type": "stream",
          "name": "stdout",
          "text": [
            "Train Epoch: 10 [10240/12000 (85%)]\tLoss: 0.825419\n"
          ]
        },
        {
          "output_type": "stream",
          "name": "stderr",
          "text": [
            " 50%|█████     | 10.06349206349203/20 [00:19<00:10,  1.02s/it]"
          ]
        },
        {
          "output_type": "stream",
          "name": "stdout",
          "text": [
            "\n",
            "Test Epoch: 10\tAccuracy: 2257/4000 (56%)\n",
            "\n",
            "Train Epoch: 11 [0/12000 (0%)]\tLoss: 0.757363\n"
          ]
        },
        {
          "output_type": "stream",
          "name": "stderr",
          "text": [
            " 52%|█████▏    | 10.47619047619044/20 [00:19<00:10,  1.10s/it] "
          ]
        },
        {
          "output_type": "stream",
          "name": "stdout",
          "text": [
            "Train Epoch: 11 [5120/12000 (43%)]\tLoss: 0.775645\n"
          ]
        },
        {
          "output_type": "stream",
          "name": "stderr",
          "text": [
            " 54%|█████▍    | 10.761904761904725/20 [00:19<00:10,  1.13s/it]"
          ]
        },
        {
          "output_type": "stream",
          "name": "stdout",
          "text": [
            "Train Epoch: 11 [10240/12000 (85%)]\tLoss: 0.814380\n"
          ]
        },
        {
          "output_type": "stream",
          "name": "stderr",
          "text": [
            " 56%|█████▌    | 11.12698412698409/20 [00:20<00:09,  1.02s/it] "
          ]
        },
        {
          "output_type": "stream",
          "name": "stdout",
          "text": [
            "\n",
            "Test Epoch: 11\tAccuracy: 2577/4000 (64%)\n",
            "\n",
            "Train Epoch: 12 [0/12000 (0%)]\tLoss: 0.624507\n"
          ]
        },
        {
          "output_type": "stream",
          "name": "stderr",
          "text": [
            " 57%|█████▋    | 11.444444444444406/20 [00:20<00:09,  1.08s/it]"
          ]
        },
        {
          "output_type": "stream",
          "name": "stdout",
          "text": [
            "Train Epoch: 12 [5120/12000 (43%)]\tLoss: 0.773933\n"
          ]
        },
        {
          "output_type": "stream",
          "name": "stderr",
          "text": [
            " 59%|█████▉    | 11.841269841269801/20 [00:21<00:08,  1.07s/it]"
          ]
        },
        {
          "output_type": "stream",
          "name": "stdout",
          "text": [
            "Train Epoch: 12 [10240/12000 (85%)]\tLoss: 0.645555\n"
          ]
        },
        {
          "output_type": "stream",
          "name": "stderr",
          "text": [
            " 60%|██████    | 12.079365079365038/20 [00:21<00:08,  1.01s/it]"
          ]
        },
        {
          "output_type": "stream",
          "name": "stdout",
          "text": [
            "\n",
            "Test Epoch: 12\tAccuracy: 2556/4000 (64%)\n",
            "\n",
            "Train Epoch: 13 [0/12000 (0%)]\tLoss: 0.553383\n"
          ]
        },
        {
          "output_type": "stream",
          "name": "stderr",
          "text": [
            " 62%|██████▏   | 12.476190476190434/20 [00:21<00:09,  1.30s/it]"
          ]
        },
        {
          "output_type": "stream",
          "name": "stdout",
          "text": [
            "Train Epoch: 13 [5120/12000 (43%)]\tLoss: 0.745143\n"
          ]
        },
        {
          "output_type": "stream",
          "name": "stderr",
          "text": [
            " 64%|██████▍   | 12.809523809523766/20 [00:22<00:09,  1.28s/it]"
          ]
        },
        {
          "output_type": "stream",
          "name": "stdout",
          "text": [
            "Train Epoch: 13 [10240/12000 (85%)]\tLoss: 0.789052\n"
          ]
        },
        {
          "output_type": "stream",
          "name": "stderr",
          "text": [
            " 66%|██████▌   | 13.111111111111066/20 [00:22<00:08,  1.22s/it]"
          ]
        },
        {
          "output_type": "stream",
          "name": "stdout",
          "text": [
            "\n",
            "Test Epoch: 13\tAccuracy: 2690/4000 (67%)\n",
            "\n",
            "Train Epoch: 14 [0/12000 (0%)]\tLoss: 0.676977\n"
          ]
        },
        {
          "output_type": "stream",
          "name": "stderr",
          "text": [
            " 67%|██████▋   | 13.460317460317414/20 [00:23<00:08,  1.37s/it]"
          ]
        },
        {
          "output_type": "stream",
          "name": "stdout",
          "text": [
            "Train Epoch: 14 [5120/12000 (43%)]\tLoss: 0.653520\n"
          ]
        },
        {
          "output_type": "stream",
          "name": "stderr",
          "text": [
            " 69%|██████▉   | 13.77777777777773/20 [00:23<00:08,  1.37s/it] "
          ]
        },
        {
          "output_type": "stream",
          "name": "stdout",
          "text": [
            "Train Epoch: 14 [10240/12000 (85%)]\tLoss: 0.602532\n"
          ]
        },
        {
          "output_type": "stream",
          "name": "stderr",
          "text": [
            " 71%|███████   | 14.126984126984079/20 [00:23<00:06,  1.16s/it]"
          ]
        },
        {
          "output_type": "stream",
          "name": "stdout",
          "text": [
            "\n",
            "Test Epoch: 14\tAccuracy: 2734/4000 (68%)\n",
            "\n",
            "Train Epoch: 15 [0/12000 (0%)]\tLoss: 0.530863\n"
          ]
        },
        {
          "output_type": "stream",
          "name": "stderr",
          "text": [
            " 72%|███████▏  | 14.412698412698363/20 [00:24<00:06,  1.19s/it]"
          ]
        },
        {
          "output_type": "stream",
          "name": "stdout",
          "text": [
            "Train Epoch: 15 [5120/12000 (43%)]\tLoss: 0.563630\n"
          ]
        },
        {
          "output_type": "stream",
          "name": "stderr",
          "text": [
            " 74%|███████▍  | 14.793650793650743/20 [00:24<00:05,  1.15s/it]"
          ]
        },
        {
          "output_type": "stream",
          "name": "stdout",
          "text": [
            "Train Epoch: 15 [10240/12000 (85%)]\tLoss: 0.637494\n"
          ]
        },
        {
          "output_type": "stream",
          "name": "stderr",
          "text": [
            " 76%|███████▌  | 15.14285714285709/20 [00:25<00:05,  1.05s/it]"
          ]
        },
        {
          "output_type": "stream",
          "name": "stdout",
          "text": [
            "\n",
            "Test Epoch: 15\tAccuracy: 2558/4000 (64%)\n",
            "\n",
            "Train Epoch: 16 [0/12000 (0%)]\tLoss: 0.728953\n"
          ]
        },
        {
          "output_type": "stream",
          "name": "stderr",
          "text": [
            " 77%|███████▋  | 15.444444444444391/20 [00:25<00:05,  1.10s/it]"
          ]
        },
        {
          "output_type": "stream",
          "name": "stdout",
          "text": [
            "Train Epoch: 16 [5120/12000 (43%)]\tLoss: 0.537812\n"
          ]
        },
        {
          "output_type": "stream",
          "name": "stderr",
          "text": [
            " 79%|███████▉  | 15.841269841269787/20 [00:25<00:04,  1.08s/it]"
          ]
        },
        {
          "output_type": "stream",
          "name": "stdout",
          "text": [
            "Train Epoch: 16 [10240/12000 (85%)]\tLoss: 0.520065\n"
          ]
        },
        {
          "output_type": "stream",
          "name": "stderr",
          "text": [
            " 81%|████████  | 16.158730158730105/20 [00:26<00:04,  1.08s/it]"
          ]
        },
        {
          "output_type": "stream",
          "name": "stdout",
          "text": [
            "\n",
            "Test Epoch: 16\tAccuracy: 2618/4000 (65%)\n",
            "\n",
            "Train Epoch: 17 [0/12000 (0%)]\tLoss: 0.467486\n"
          ]
        },
        {
          "output_type": "stream",
          "name": "stderr",
          "text": [
            " 82%|████████▏ | 16.44444444444439/20 [00:26<00:03,  1.11s/it] "
          ]
        },
        {
          "output_type": "stream",
          "name": "stdout",
          "text": [
            "Train Epoch: 17 [5120/12000 (43%)]\tLoss: 0.532178\n"
          ]
        },
        {
          "output_type": "stream",
          "name": "stderr",
          "text": [
            " 84%|████████▍ | 16.841269841269785/20 [00:26<00:03,  1.09s/it]"
          ]
        },
        {
          "output_type": "stream",
          "name": "stdout",
          "text": [
            "Train Epoch: 17 [10240/12000 (85%)]\tLoss: 0.645418\n"
          ]
        },
        {
          "output_type": "stream",
          "name": "stderr",
          "text": [
            " 85%|████████▌ | 17.079365079365022/20 [00:27<00:02,  1.03s/it]"
          ]
        },
        {
          "output_type": "stream",
          "name": "stdout",
          "text": [
            "\n",
            "Test Epoch: 17\tAccuracy: 2722/4000 (68%)\n",
            "\n",
            "Train Epoch: 18 [0/12000 (0%)]\tLoss: 0.541151\n"
          ]
        },
        {
          "output_type": "stream",
          "name": "stderr",
          "text": [
            " 87%|████████▋ | 17.476190476190418/20 [00:27<00:02,  1.11s/it]"
          ]
        },
        {
          "output_type": "stream",
          "name": "stdout",
          "text": [
            "Train Epoch: 18 [5120/12000 (43%)]\tLoss: 0.529188\n"
          ]
        },
        {
          "output_type": "stream",
          "name": "stderr",
          "text": [
            " 89%|████████▉ | 17.761904761904702/20 [00:27<00:02,  1.14s/it]"
          ]
        },
        {
          "output_type": "stream",
          "name": "stdout",
          "text": [
            "Train Epoch: 18 [10240/12000 (85%)]\tLoss: 0.485864\n"
          ]
        },
        {
          "output_type": "stream",
          "name": "stderr",
          "text": [
            " 91%|█████████ | 18.126984126984066/20 [00:28<00:01,  1.03s/it]"
          ]
        },
        {
          "output_type": "stream",
          "name": "stdout",
          "text": [
            "\n",
            "Test Epoch: 18\tAccuracy: 2665/4000 (67%)\n",
            "\n",
            "Train Epoch: 19 [0/12000 (0%)]\tLoss: 0.394899\n"
          ]
        },
        {
          "output_type": "stream",
          "name": "stderr",
          "text": [
            " 92%|█████████▏| 18.428571428571367/20 [00:28<00:01,  1.12s/it]"
          ]
        },
        {
          "output_type": "stream",
          "name": "stdout",
          "text": [
            "Train Epoch: 19 [5120/12000 (43%)]\tLoss: 0.473693\n"
          ]
        },
        {
          "output_type": "stream",
          "name": "stderr",
          "text": [
            " 94%|█████████▍| 18.825396825396762/20 [00:29<00:01,  1.09s/it]"
          ]
        },
        {
          "output_type": "stream",
          "name": "stdout",
          "text": [
            "Train Epoch: 19 [10240/12000 (85%)]\tLoss: 0.563866\n"
          ]
        },
        {
          "output_type": "stream",
          "name": "stderr",
          "text": [
            " 95%|█████████▌| 19.063492063492/20 [00:29<00:00,  1.02s/it]  "
          ]
        },
        {
          "output_type": "stream",
          "name": "stdout",
          "text": [
            "\n",
            "Test Epoch: 19\tAccuracy: 2761/4000 (69%)\n",
            "\n",
            "Train Epoch: 20 [0/12000 (0%)]\tLoss: 0.482947\n"
          ]
        },
        {
          "output_type": "stream",
          "name": "stderr",
          "text": [
            " 97%|█████████▋| 19.460317460317395/20 [00:29<00:00,  1.13s/it]"
          ]
        },
        {
          "output_type": "stream",
          "name": "stdout",
          "text": [
            "Train Epoch: 20 [5120/12000 (43%)]\tLoss: 0.509215\n"
          ]
        },
        {
          "output_type": "stream",
          "name": "stderr",
          "text": [
            " 99%|█████████▊| 19.74603174603168/20 [00:30<00:00,  1.15s/it] "
          ]
        },
        {
          "output_type": "stream",
          "name": "stdout",
          "text": [
            "Train Epoch: 20 [10240/12000 (85%)]\tLoss: 0.462191\n"
          ]
        },
        {
          "output_type": "stream",
          "name": "stderr",
          "text": [
            "100%|█████████▉| 19.999999999999932/20 [00:30<00:00,  1.52s/it]\n"
          ]
        },
        {
          "output_type": "stream",
          "name": "stdout",
          "text": [
            "\n",
            "Test Epoch: 20\tAccuracy: 2773/4000 (69%)\n",
            "\n"
          ]
        },
        {
          "output_type": "display_data",
          "data": {
            "text/plain": [
              "<Figure size 432x288 with 1 Axes>"
            ],
            "image/png": "[encoded data removed]"
          },
          "metadata": {
            "needs_background": "light"
          }
        }
      ],
      "source": [
        "log_interval = 20\n",
        "n_epoch =20\n",
        "\n",
        "pbar_update = 1 / (len(train_loader) + len(test_loader))\n",
        "losses = []\n",
        "\n",
        "# The transform needs to live on the same device as the model and the data.\n",
        "transform = transform.to(device)\n",
        "with tqdm(total=n_epoch) as pbar:\n",
        "    for epoch in range(1, n_epoch + 1):\n",
        "        train(model, epoch, log_interval)\n",
        "        test(model, epoch)\n",
        "        scheduler.step()\n",
        "\n",
        "# Let's plot the training loss versus the number of iteration.\n",
        "plt.plot(losses);\n",
        "plt.title(\"training loss\");"
      ]
    }
  ],
  "metadata": {
    "kernelspec": {
      "display_name": "Python 3",
      "language": "python",
      "name": "python3"
    },
    "language_info": {
      "codemirror_mode": {
        "name": "ipython",
        "version": 3
      },
      "file_extension": ".py",
      "mimetype": "text/x-python",
      "name": "python",
      "nbconvert_exporter": "python",
      "pygments_lexer": "ipython3",
      "version": "3.10.9"
    },
    "colab": {
      "provenance": []
    },
    "accelerator": "GPU",
    "gpuClass": "standard",
    "widgets": {
      "application/vnd.jupyter.widget-state+json": {
        "d803d1ba7ff440739f91bf46a64f135d": {
          "model_module": "@jupyter-widgets/controls",
          "model_name": "HBoxModel",
          "model_module_version": "1.5.0",
          "state": {
            "_dom_classes": [],
            "_model_module": "@jupyter-widgets/controls",
            "_model_module_version": "1.5.0",
            "_model_name": "HBoxModel",
            "_view_count": null,
            "_view_module": "@jupyter-widgets/controls",
            "_view_module_version": "1.5.0",
            "_view_name": "HBoxView",
            "box_style": "",
            "children": [
              "IPY_MODEL_637c76c141714eb89edf50f1f9e4416c",
              "IPY_MODEL_a88254c4ef9643bca9220ee4561ea739",
              "IPY_MODEL_6dd0d69cc4164733a6fe373fc5390cb7"
            ],
            "layout": "IPY_MODEL_4005f19971614d4884a034cedd5e4fff"
          }
        },
        "637c76c141714eb89edf50f1f9e4416c": {
          "model_module": "@jupyter-widgets/controls",
          "model_name": "HTMLModel",
          "model_module_version": "1.5.0",
          "state": {
            "_dom_classes": [],
            "_model_module": "@jupyter-widgets/controls",
            "_model_module_version": "1.5.0",
            "_model_name": "HTMLModel",
            "_view_count": null,
            "_view_module": "@jupyter-widgets/controls",
            "_view_module_version": "1.5.0",
            "_view_name": "HTMLView",
            "description": "",
            "description_tooltip": null,
            "layout": "IPY_MODEL_ba070aab114c4f0ab94152bc0444b133",
            "placeholder": "​",
            "style": "IPY_MODEL_e954380e70a04a50b46922c08dcbe7da",
            "value": "100%"
          }
        },
        "a88254c4ef9643bca9220ee4561ea739": {
          "model_module": "@jupyter-widgets/controls",
          "model_name": "FloatProgressModel",
          "model_module_version": "1.5.0",
          "state": {
            "_dom_classes": [],
            "_model_module": "@jupyter-widgets/controls",
            "_model_module_version": "1.5.0",
            "_model_name": "FloatProgressModel",
            "_view_count": null,
            "_view_module": "@jupyter-widgets/controls",
            "_view_module_version": "1.5.0",
            "_view_name": "ProgressView",
            "bar_style": "success",
            "description": "",
            "description_tooltip": null,
            "layout": "IPY_MODEL_da276eebaee947c89ccd4385c810d365",
            "max": 2428923189,
            "min": 0,
            "orientation": "horizontal",
            "style": "IPY_MODEL_41e62c87f3554177970b736c27307602",
            "value": 2428923189
          }
        },
        "6dd0d69cc4164733a6fe373fc5390cb7": {
          "model_module": "@jupyter-widgets/controls",
          "model_name": "HTMLModel",
          "model_module_version": "1.5.0",
          "state": {
            "_dom_classes": [],
            "_model_module": "@jupyter-widgets/controls",
            "_model_module_version": "1.5.0",
            "_model_name": "HTMLModel",
            "_view_count": null,
            "_view_module": "@jupyter-widgets/controls",
            "_view_module_version": "1.5.0",
            "_view_name": "HTMLView",
            "description": "",
            "description_tooltip": null,
            "layout": "IPY_MODEL_a75912f9192242209ab91083b3511abf",
            "placeholder": "​",
            "style": "IPY_MODEL_91685800b8984449b852ecbfbf2bc267",
            "value": " 2.26G/2.26G [00:17&lt;00:00, 176MB/s]"
          }
        },
        "4005f19971614d4884a034cedd5e4fff": {
          "model_module": "@jupyter-widgets/base",
          "model_name": "LayoutModel",
          "model_module_version": "1.2.0",
          "state": {
            "_model_module": "@jupyter-widgets/base",
            "_model_module_version": "1.2.0",
            "_model_name": "LayoutModel",
            "_view_count": null,
            "_view_module": "@jupyter-widgets/base",
            "_view_module_version": "1.2.0",
            "_view_name": "LayoutView",
            "align_content": null,
            "align_items": null,
            "align_self": null,
            "border": null,
            "bottom": null,
            "display": null,
            "flex": null,
            "flex_flow": null,
            "grid_area": null,
            "grid_auto_columns": null,
            "grid_auto_flow": null,
            "grid_auto_rows": null,
            "grid_column": null,
            "grid_gap": null,
            "grid_row": null,
            "grid_template_areas": null,
            "grid_template_columns": null,
            "grid_template_rows": null,
            "height": null,
            "justify_content": null,
            "justify_items": null,
            "left": null,
            "margin": null,
            "max_height": null,
            "max_width": null,
            "min_height": null,
            "min_width": null,
            "object_fit": null,
            "object_position": null,
            "order": null,
            "overflow": null,
            "overflow_x": null,
            "overflow_y": null,
            "padding": null,
            "right": null,
            "top": null,
            "visibility": null,
            "width": null
          }
        },
        "ba070aab114c4f0ab94152bc0444b133": {
          "model_module": "@jupyter-widgets/base",
          "model_name": "LayoutModel",
          "model_module_version": "1.2.0",
          "state": {
            "_model_module": "@jupyter-widgets/base",
            "_model_module_version": "1.2.0",
            "_model_name": "LayoutModel",
            "_view_count": null,
            "_view_module": "@jupyter-widgets/base",
            "_view_module_version": "1.2.0",
            "_view_name": "LayoutView",
            "align_content": null,
            "align_items": null,
            "align_self": null,
            "border": null,
            "bottom": null,
            "display": null,
            "flex": null,
            "flex_flow": null,
            "grid_area": null,
            "grid_auto_columns": null,
            "grid_auto_flow": null,
            "grid_auto_rows": null,
            "grid_column": null,
            "grid_gap": null,
            "grid_row": null,
            "grid_template_areas": null,
            "grid_template_columns": null,
            "grid_template_rows": null,
            "height": null,
            "justify_content": null,
            "justify_items": null,
            "left": null,
            "margin": null,
            "max_height": null,
            "max_width": null,
            "min_height": null,
            "min_width": null,
            "object_fit": null,
            "object_position": null,
            "order": null,
            "overflow": null,
            "overflow_x": null,
            "overflow_y": null,
            "padding": null,
            "right": null,
            "top": null,
            "visibility": null,
            "width": null
          }
        },
        "e954380e70a04a50b46922c08dcbe7da": {
          "model_module": "@jupyter-widgets/controls",
          "model_name": "DescriptionStyleModel",
          "model_module_version": "1.5.0",
          "state": {
            "_model_module": "@jupyter-widgets/controls",
            "_model_module_version": "1.5.0",
            "_model_name": "DescriptionStyleModel",
            "_view_count": null,
            "_view_module": "@jupyter-widgets/base",
            "_view_module_version": "1.2.0",
            "_view_name": "StyleView",
            "description_width": ""
          }
        },
        "da276eebaee947c89ccd4385c810d365": {
          "model_module": "@jupyter-widgets/base",
          "model_name": "LayoutModel",
          "model_module_version": "1.2.0",
          "state": {
            "_model_module": "@jupyter-widgets/base",
            "_model_module_version": "1.2.0",
            "_model_name": "LayoutModel",
            "_view_count": null,
            "_view_module": "@jupyter-widgets/base",
            "_view_module_version": "1.2.0",
            "_view_name": "LayoutView",
            "align_content": null,
            "align_items": null,
            "align_self": null,
            "border": null,
            "bottom": null,
            "display": null,
            "flex": null,
            "flex_flow": null,
            "grid_area": null,
            "grid_auto_columns": null,
            "grid_auto_flow": null,
            "grid_auto_rows": null,
            "grid_column": null,
            "grid_gap": null,
            "grid_row": null,
            "grid_template_areas": null,
            "grid_template_columns": null,
            "grid_template_rows": null,
            "height": null,
            "justify_content": null,
            "justify_items": null,
            "left": null,
            "margin": null,
            "max_height": null,
            "max_width": null,
            "min_height": null,
            "min_width": null,
            "object_fit": null,
            "object_position": null,
            "order": null,
            "overflow": null,
            "overflow_x": null,
            "overflow_y": null,
            "padding": null,
            "right": null,
            "top": null,
            "visibility": null,
            "width": null
          }
        },
        "41e62c87f3554177970b736c27307602": {
          "model_module": "@jupyter-widgets/controls",
          "model_name": "ProgressStyleModel",
          "model_module_version": "1.5.0",
          "state": {
            "_model_module": "@jupyter-widgets/controls",
            "_model_module_version": "1.5.0",
            "_model_name": "ProgressStyleModel",
            "_view_count": null,
            "_view_module": "@jupyter-widgets/base",
            "_view_module_version": "1.2.0",
            "_view_name": "StyleView",
            "bar_color": null,
            "description_width": ""
          }
        },
        "a75912f9192242209ab91083b3511abf": {
          "model_module": "@jupyter-widgets/base",
          "model_name": "LayoutModel",
          "model_module_version": "1.2.0",
          "state": {
            "_model_module": "@jupyter-widgets/base",
            "_model_module_version": "1.2.0",
            "_model_name": "LayoutModel",
            "_view_count": null,
            "_view_module": "@jupyter-widgets/base",
            "_view_module_version": "1.2.0",
            "_view_name": "LayoutView",
            "align_content": null,
            "align_items": null,
            "align_self": null,
            "border": null,
            "bottom": null,
            "display": null,
            "flex": null,
            "flex_flow": null,
            "grid_area": null,
            "grid_auto_columns": null,
            "grid_auto_flow": null,
            "grid_auto_rows": null,
            "grid_column": null,
            "grid_gap": null,
            "grid_row": null,
            "grid_template_areas": null,
            "grid_template_columns": null,
            "grid_template_rows": null,
            "height": null,
            "justify_content": null,
            "justify_items": null,
            "left": null,
            "margin": null,
            "max_height": null,
            "max_width": null,
            "min_height": null,
            "min_width": null,
            "object_fit": null,
            "object_position": null,
            "order": null,
            "overflow": null,
            "overflow_x": null,
            "overflow_y": null,
            "padding": null,
            "right": null,
            "top": null,
            "visibility": null,
            "width": null
          }
        },
        "91685800b8984449b852ecbfbf2bc267": {
          "model_module": "@jupyter-widgets/controls",
          "model_name": "DescriptionStyleModel",
          "model_module_version": "1.5.0",
          "state": {
            "_model_module": "@jupyter-widgets/controls",
            "_model_module_version": "1.5.0",
            "_model_name": "DescriptionStyleModel",
            "_view_count": null,
            "_view_module": "@jupyter-widgets/base",
            "_view_module_version": "1.2.0",
            "_view_name": "StyleView",
            "description_width": ""
          }
        }
      }
    }
  },
  "nbformat": 4,
  "nbformat_minor": 0
}